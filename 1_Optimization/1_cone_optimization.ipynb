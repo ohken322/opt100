{
 "cells": [
  {
   "cell_type": "markdown",
   "metadata": {},
   "source": [
    "cvxpyを使って錐最適化を実装する．\n",
    "\n",
    "まずはcvxpyのチュートリアルページの例を実行: https://www.cvxpy.org/examples/basic/socp.html"
   ]
  },
  {
   "cell_type": "code",
   "execution_count": 1,
   "metadata": {},
   "outputs": [
    {
     "name": "stdout",
     "output_type": "stream",
     "text": [
      "The optimal value is -9.582695713565018\n",
      "A solution x is\n",
      "[ 1.40302778  2.41946607  1.69147444 -0.26922648  1.30825253 -0.70836258\n",
      "  0.19314498  1.6415174   0.47700326  0.66581154]\n",
      "SOC constraint 0 dual variable solution\n",
      "[array([0.616643]), array([[ 0.35371564],\n",
      "       [-0.02327769],\n",
      "       [ 0.04254603],\n",
      "       [ 0.06244433],\n",
      "       [ 0.49888127]])]\n",
      "SOC constraint 1 dual variable solution\n",
      "[array([0.35281841]), array([[-0.1430102 ],\n",
      "       [ 0.16538684],\n",
      "       [-0.22027071],\n",
      "       [ 0.15439825],\n",
      "       [ 0.06571222]])]\n",
      "SOC constraint 2 dual variable solution\n",
      "[array([0.86509813]), array([[-0.11463631],\n",
      "       [-0.44928162],\n",
      "       [ 0.37808594],\n",
      "       [-0.61441428],\n",
      "       [-0.11377798]])]\n"
     ]
    }
   ],
   "source": [
    "# Import packages.\n",
    "import cvxpy as cp\n",
    "import numpy as np\n",
    "\n",
    "# Generate a random feasible SOCP.\n",
    "m = 3\n",
    "n = 10\n",
    "p = 5\n",
    "n_i = 5\n",
    "np.random.seed(2)\n",
    "f = np.random.randn(n)\n",
    "A = []\n",
    "b = []\n",
    "c = []\n",
    "d = []\n",
    "x0 = np.random.randn(n)\n",
    "for i in range(m):\n",
    "    A.append(np.random.randn(n_i, n))\n",
    "    b.append(np.random.randn(n_i))\n",
    "    c.append(np.random.randn(n))\n",
    "    d.append(np.linalg.norm(A[i] @ x0 + b, 2) - c[i].T @ x0)\n",
    "F = np.random.randn(p, n)\n",
    "g = F @ x0\n",
    "\n",
    "# Define and solve the CVXPY problem.\n",
    "x = cp.Variable(n)\n",
    "# We use cp.SOC(t, x) to create the SOC constraint ||x||_2 <= t.\n",
    "soc_constraints = [\n",
    "      cp.SOC(c[i].T @ x + d[i], A[i] @ x + b[i]) for i in range(m)\n",
    "]\n",
    "prob = cp.Problem(cp.Minimize(f.T@x),\n",
    "                  soc_constraints + [F @ x == g])\n",
    "prob.solve()\n",
    "\n",
    "# Print result.\n",
    "print(\"The optimal value is\", prob.value)\n",
    "print(\"A solution x is\")\n",
    "print(x.value)\n",
    "for i in range(m):\n",
    "    print(\"SOC constraint %i dual variable solution\" % i)\n",
    "    print(soc_constraints[i].dual_value)"
   ]
  },
  {
   "cell_type": "markdown",
   "metadata": {},
   "source": [
    "次に[opt100の問題例](https://scmopt.github.io/opt100/02optimization.html#%E9%8C%90%E6%9C%80%E9%81%A9%E5%8C%96%E5%95%8F%E9%A1%8C)を実装する．"
   ]
  },
  {
   "cell_type": "code",
   "execution_count": 2,
   "metadata": {},
   "outputs": [
    {
     "name": "stdout",
     "output_type": "stream",
     "text": [
      "The optimal value is 5.166114780562763\n",
      "A solution x is\n",
      "[1.28047813 0.59631807 1.41252238]\n",
      "SOC constraint 0 dual variable solution\n",
      "[array([0.616643]), array([[ 0.35371564],\n",
      "       [-0.02327769],\n",
      "       [ 0.04254603],\n",
      "       [ 0.06244433],\n",
      "       [ 0.49888127]])]\n",
      "SOC constraint 1 dual variable solution\n",
      "[array([0.35281841]), array([[-0.1430102 ],\n",
      "       [ 0.16538684],\n",
      "       [-0.22027071],\n",
      "       [ 0.15439825],\n",
      "       [ 0.06571222]])]\n",
      "SOC constraint 2 dual variable solution\n",
      "[array([0.86509813]), array([[-0.11463631],\n",
      "       [-0.44928162],\n",
      "       [ 0.37808594],\n",
      "       [-0.61441428],\n",
      "       [-0.11377798]])]\n"
     ]
    }
   ],
   "source": [
    "x = cp.Variable(3) # x,y,z\n",
    "\n",
    "A = np.array([\n",
    "    [1,0,0],\n",
    "    [0,1,0],\n",
    "    [0,0,0]\n",
    "])\n",
    "c = np.array([0,0,1])\n",
    "soc_constraint = cp.SOC(c.T @ x, A @ x)\n",
    "\n",
    "f = np.array([2,2,1])\n",
    "F = np.array([2,3,4])\n",
    "g = 10\n",
    "\n",
    "prob = cp.Problem(cp.Maximize(f.T@x),\n",
    "                  [soc_constraint, F @ x <= g])\n",
    "prob.solve()\n",
    "\n",
    "print(\"The optimal value is\", prob.value)\n",
    "print(\"A solution x is\")\n",
    "print(x.value)\n",
    "for i in range(m):\n",
    "    print(\"SOC constraint %i dual variable solution\" % i)\n",
    "    print(soc_constraints[i].dual_value)"
   ]
  },
  {
   "cell_type": "code",
   "execution_count": null,
   "metadata": {},
   "outputs": [],
   "source": []
  }
 ],
 "metadata": {
  "kernelspec": {
   "display_name": ".venv",
   "language": "python",
   "name": "python3"
  },
  "language_info": {
   "codemirror_mode": {
    "name": "ipython",
    "version": 3
   },
   "file_extension": ".py",
   "mimetype": "text/x-python",
   "name": "python",
   "nbconvert_exporter": "python",
   "pygments_lexer": "ipython3",
   "version": "3.9.16"
  }
 },
 "nbformat": 4,
 "nbformat_minor": 2
}
