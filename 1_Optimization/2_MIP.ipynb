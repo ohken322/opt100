{
 "cells": [
  {
   "cell_type": "markdown",
   "metadata": {},
   "source": [
    "[整数最適化](https://scmopt.github.io/opt100/02optimization.html#%E6%95%B4%E6%95%B0%E6%9C%80%E9%81%A9%E5%8C%96%E5%95%8F%E9%A1%8C)を[pyscipopt](https://github.com/scipopt/PySCIPOpt)で解く"
   ]
  },
  {
   "cell_type": "code",
   "execution_count": 1,
   "metadata": {},
   "outputs": [],
   "source": [
    "from pyscipopt import Model"
   ]
  },
  {
   "cell_type": "code",
   "execution_count": 2,
   "metadata": {},
   "outputs": [
    {
     "name": "stdout",
     "output_type": "stream",
     "text": [
      "x: 28.0presolving:\n",
      "\n",
      "y: 2.0\n",
      "z: 2.0\n",
      "(round 1, fast)       0 del vars, 0 del conss, 0 add conss, 5 chg bounds, 0 chg sides, 0 chg coeffs, 0 upgd conss, 0 impls, 0 clqs\n",
      "(round 2, fast)       2 del vars, 2 del conss, 0 add conss, 9 chg bounds, 0 chg sides, 0 chg coeffs, 0 upgd conss, 0 impls, 0 clqs\n",
      "presolving (3 rounds: 3 fast, 1 medium, 1 exhaustive):\n",
      " 3 deleted vars, 2 deleted constraints, 0 added constraints, 9 tightened bounds, 0 added holes, 0 changed sides, 0 changed coefficients\n",
      " 0 implications, 0 cliques\n",
      "transformed 1/1 original solutions to the transformed problem space\n",
      "Presolving Time: 0.00\n",
      "\n",
      "SCIP Status        : problem is solved [optimal solution found]\n",
      "Solving Time (sec) : 0.00\n",
      "Solving Nodes      : 0\n",
      "Primal Bound       : +4.00000000000000e+00 (1 solutions)\n",
      "Dual Bound         : +4.00000000000000e+00\n",
      "Gap                : 0.00 %\n"
     ]
    }
   ],
   "source": [
    "model = Model(\"Example\")  # model name is optional\n",
    "\n",
    "x = model.addVar(\"x\", vtype=\"INTEGER\")\n",
    "y = model.addVar(\"y\", vtype=\"INTEGER\")\n",
    "z = model.addVar(\"z\", vtype=\"INTEGER\")\n",
    "\n",
    "model.setObjective(y + z)\n",
    "model.addCons(x + y + z == 32)\n",
    "model.addCons(2 * x + 4 * y + 8 * z == 80)\n",
    "model.optimize()\n",
    "sol = model.getBestSol()\n",
    "print(\"x: {}\".format(sol[x]))\n",
    "print(\"y: {}\".format(sol[y]))\n",
    "print(\"z: {}\".format(sol[z]))"
   ]
  },
  {
   "cell_type": "code",
   "execution_count": 3,
   "metadata": {},
   "outputs": [
    {
     "data": {
      "text/plain": [
       "'optimal'"
      ]
     },
     "execution_count": 3,
     "metadata": {},
     "output_type": "execute_result"
    }
   ],
   "source": [
    "model.getStatus()"
   ]
  },
  {
   "cell_type": "code",
   "execution_count": null,
   "metadata": {},
   "outputs": [],
   "source": []
  }
 ],
 "metadata": {
  "kernelspec": {
   "display_name": ".venv",
   "language": "python",
   "name": "python3"
  },
  "language_info": {
   "codemirror_mode": {
    "name": "ipython",
    "version": 3
   },
   "file_extension": ".py",
   "mimetype": "text/x-python",
   "name": "python",
   "nbconvert_exporter": "python",
   "pygments_lexer": "ipython3",
   "version": "3.9.16"
  }
 },
 "nbformat": 4,
 "nbformat_minor": 2
}
