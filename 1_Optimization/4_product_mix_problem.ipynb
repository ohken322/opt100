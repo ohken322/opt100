{
 "cells": [
  {
   "cell_type": "code",
   "execution_count": 8,
   "metadata": {},
   "outputs": [],
   "source": [
    "from pyscipopt import Model, quicksum\n",
    "from util import multidict\n",
    "\n",
    "def prodmix(I, K, a, p, epsilon, LB):\n",
    "    \"\"\"prodmix:  robust production planning using soco\n",
    "    Parameters:\n",
    "        I - set of materials\n",
    "        K - set of components\n",
    "        a[i][k] -  coef. matrix\n",
    "        p[i] - price of material i\n",
    "        LB[k] - amount needed for k\n",
    "    Returns a model, ready to be solved.\n",
    "    \"\"\"\n",
    "\n",
    "    model = Model(\"robust product mix\")\n",
    "    x, rhs = {}, {}\n",
    "    for i in I:\n",
    "        x[i] = model.addVar(name=f\"x({i})\")\n",
    "    for k in K:\n",
    "        rhs[k] = model.addVar(name=f\"rhs({i})\")\n",
    "\n",
    "    model.addCons(quicksum(x[i] for i in I) == 1)\n",
    "    for k in K:\n",
    "        model.addCons(rhs[k] == -LB[k] + quicksum(a[i, k] * x[i] for i in I))\n",
    "        model.addCons(\n",
    "            quicksum(epsilon * epsilon * x[i] * x[i] for i in I) <= rhs[k] * rhs[k]\n",
    "        )\n",
    "\n",
    "    model.setObjective(quicksum(p[i] * x[i] for i in I), sense='minimize')\n",
    "\n",
    "    #model.__data = x, rhs\n",
    "    return model\n",
    "\n",
    "\n",
    "def make_data():\n",
    "    a = {\n",
    "        (1, 1): 0.25,\n",
    "        (1, 2): 0.15,\n",
    "        (1, 3): 0.2,\n",
    "        (2, 1): 0.3,\n",
    "        (2, 2): 0.3,\n",
    "        (2, 3): 0.1,\n",
    "        (3, 1): 0.15,\n",
    "        (3, 2): 0.65,\n",
    "        (3, 3): 0.05,\n",
    "        (4, 1): 0.1,\n",
    "        (4, 2): 0.05,\n",
    "        (4, 3): 0.8,\n",
    "    }\n",
    "    epsilon = 0.01\n",
    "    I, p = multidict({1: 5, 2: 6, 3: 8, 4: 20})\n",
    "    K, LB = multidict({1: 0.2, 2: 0.3, 3: 0.2})\n",
    "    return I, K, a, p, epsilon, LB"
   ]
  },
  {
   "cell_type": "code",
   "execution_count": 9,
   "metadata": {},
   "outputs": [
    {
     "name": "stdout",
     "output_type": "stream",
     "text": [
      "obj:presolving:\n",
      " 7.1315789473684355\n",
      "{'x(1)': 0.6052631578947363, 'x(2)': 0.0, 'x(3)': 0.3157894736842106, 'x(4)': 0.07894736842105343, 'rhs(4)': 0.0}\n",
      "(round 1, fast)       0 del vars, 3 del conss, 0 add conss, 7 chg bounds, 0 chg sides, 0 chg coeffs, 0 upgd conss, 0 impls, 0 clqs\n",
      "   (0.0s) symmetry computation started: requiring (bin +, int +, cont +), (fixed: bin -, int -, cont -)\n",
      "   (0.0s) no symmetry present (symcode time: 0.00)\n",
      "presolving (2 rounds: 2 fast, 1 medium, 1 exhaustive):\n",
      " 0 deleted vars, 3 deleted constraints, 0 added constraints, 7 tightened bounds, 0 added holes, 0 changed sides, 0 changed coefficients\n",
      " 0 implications, 0 cliques\n",
      "presolved problem has 7 variables (0 bin, 0 int, 0 impl, 7 cont) and 4 constraints\n",
      "      4 constraints of type <linear>\n",
      "Presolving Time: 0.00\n",
      "\n",
      " time | node  | left  |LP iter|LP it/n|mem/heur|mdpt |vars |cons |rows |cuts |sepa|confs|strbr|  dualbound   | primalbound  |  gap   | compl. \n",
      "* 0.0s|     1 |     0 |     4 |     - |    LP  |   0 |   7 |   4 |   4 |   0 |  0 |   0 |   0 | 7.131579e+00 | 7.131579e+00 |   0.00%| unknown\n",
      "  0.0s|     1 |     0 |     4 |     - |   654k |   0 |   7 |   4 | obj: 7.477013882429289\n",
      "{'x(1)': 0.5324045158747794, 'x(2)': 0.052938366080576456, 'x(3)': 0.31631510452674577, 'x(4)': 0.09834201351789836, 'rhs(4)': 0.006264105823669539}\n",
      "  4 |   0 |  0 |   0 |   0 | 7.131579e+00 | 7.131579e+00 |   0.00%| unknown\n",
      "\n",
      "SCIP Status        : problem is solved [optimal solution found]\n",
      "Solving Time (sec) : 0.00\n",
      "Solving Nodes      : 1\n",
      "Primal Bound       : +7.13157894736844e+00 (1 solutions)\n",
      "Dual Bound         : +7.13157894736844e+00\n",
      "Gap                : 0.00 %\n",
      "presolving:\n",
      "(round 1, fast)       0 del vars, 0 del conss, 0 add conss, 7 chg bounds, 0 chg sides, 0 chg coeffs, 0 upgd conss, 0 impls, 0 clqs\n",
      "   (0.0s) symmetry computation started: requiring (bin +, int +, cont +), (fixed: bin -, int -, cont -)\n",
      "   (0.0s) no symmetry present (symcode time: 0.00)\n",
      "presolving (2 rounds: 2 fast, 1 medium, 1 exhaustive):\n",
      " 0 deleted vars, 0 deleted constraints, 0 added constraints, 7 tightened bounds, 0 added holes, 0 changed sides, 0 changed coefficients\n",
      " 0 implications, 0 cliques\n",
      "presolved problem has 7 variables (0 bin, 0 int, 0 impl, 7 cont) and 7 constraints\n",
      "      4 constraints of type <linear>\n",
      "      3 constraints of type <nonlinear>\n",
      "Presolobj: 7.862008318680805\n",
      "{'x(1)': 0.41404473986502266, 'x(2)': 0.17064781365071943, 'x(3)': 0.294854266019482, 'x(4)': 0.12045318046477593, 'rhs(4)': 0.010978987010871329}\n",
      "ving Time: 0.00\n",
      "\n",
      " time | node  | left  |LP iter|LP it/n|mem/heur|mdpt |vars |cons |rows |cuts |sepa|confs|strbr|  dualbound   | primalbound  |  gap   | compl. \n",
      "  0.0s|     1 |     0 |    15 |     - |   763k |   0 |  22 |   7 |  31 |   0 |  0 |   0 |   0 | 7.405958e+00 |      --      |    Inf | unknown\n",
      "L 0.0s|     1 |     0 |    15 |     - |  subnlp|   0 |  22 |   7 |  31 |   0 |  0 |   0 |   0 | 7.405958e+00 | 7.478896e+00 |   0.98%| unknown\n",
      "  0.0s|     1 |     0 |    24 |     - |   763k |   0 |  22 |   7 |  40 |   9 |  1 |   0 |   0 | 7.477014e+00 | 7.478896e+00 |   0.03%| unknown\n",
      "  0.0s|     1 |     0 |    24 |     - |   763k |   0 |  22 |   7 |  40 |   9 |  1 |   0 |   0 | 7.477014e+00 | 7.478896e+00 |   0.03%| unknown\n",
      "  0.0s|     1 |     0 |    24 |     - |   763k |   0 |  22 |   7 |  40 |   9 |  2 |   0 |   0 | 7.477014e+00 | 7.478896e+00 |   0.03%| unknown\n",
      "* 0.1s|     1 |     0 |    24 |     - |    LP  |   0 |  22 |   7 |  40 |   9 |  3 |   0 |   0 | 7.477014e+00 | 7.477014e+00 |obj: 8.228861392496697\n",
      "{'x(1)': 0.3012622070364883, 'x(2)': 0.282810662232943, 'x(3)': 0.27440468589123135, 'x(4)': 0.14152244483933735, 'rhs(4)': 0.015471697796623399}\n",
      "   0.00%| unknown\n",
      "\n",
      "SCIP Status        : problem is solved [optimal solution found]\n",
      "Solving Time (sec) : 0.07\n",
      "Solving Nodes      : 1\n",
      "Primal Bound       : +7.47701388242929e+00 (2 solutions)\n",
      "Dual Bound         : +7.47701388242929e+00\n",
      "Gap                : 0.00 %\n",
      "presolving:\n",
      "(round 1, fast)       0 del vars, 0 del conss, 0 add conss, 7 chg bounds, 0 chg sides, 0 chg coeffs, 0 upgd conss, 0 impls, 0 clqs\n",
      "   (0.0s) symmetry computation started: requiring (bin +, int +, cont +), (fixed: bin -, int -, cont -)\n",
      "   (0.0s) no symmetry present (symcode time: 0.00)\n",
      "presolving (2 rounds: 2 fast, 1 medium, 1 exhaustive):\n",
      " 0 deleted vars, 0 deleted constraints, 0 added constraints, 7 tightened bounds, 0 added holes, 0 changed sides, 0 changed coefficients\n",
      " 0 implications, 0 cliques\n",
      "presolved problem has 7 variables (0 bin, 0 int, 0 impl, 7 cont) and 7 constraints\n",
      "      4 constraints of type <linear>\n",
      "      3 constraints of type <nonlinear>\n",
      "Presolving Time: 0.00\n",
      "\n",
      " time | node  | left  |LP iter|LP it/n|mem/heur|mdpt |vars |cons |rows |cuts |sepa|confs|strbr|  dualbound   | primalbound  |  gap   | compl. \n",
      "  0.0s|     1 |     0 |    25 |     - |   763k |   0 |  22 |   7 |  31 |   0 |  0 |   0 |   0 | 7.767815e+00 |      --      |    Inf | unknown\n",
      "L 0.0s|     1 |     0 |    25 |     - |  subnlp|   0 |  22 |   7 |  31 |   0 |  0 |   0 |   0 | 7.767815e+00 | 7.862758e+00 |   1.22%| unknown\n",
      "  0.0s|     1 |     0 |    34 |     - |   763k |   0 |  22 |   7 |  40 |   9 |  1 |   0 |   0 | 7.856539e+00 | 7.862758e+00 |   0.08%| unknown\n",
      "  0.0s|     1 |     0 |    34 |     - |   763k |   0 |  22 |   7 |  40 |   9 |  1 |   0 |   0 | 7.856539e+00 | 7.862758e+00 |   0.08%| unknown\n",
      "  0.0s|     1 |     0 |    37 |     - |   765k |   0 |  22 |   7 |  43 |  12 |  2 |   0 |   0 | 7.862008e+00 | 7.862758e+00 |   0.01%| unknown\n",
      "  0.0s|     1 |     0 |    37 |     - |   765k |   0 |  22 |   7 |  43 |  12 |  3 |   0 |   0 | 7.862008e+00 | 7.862758e+00 |   0.01%| unknown\n",
      "* 0.0s|     1 |     0 |    37 |     - |    LP  |   0 |  22 |   7 |  43 |  12 |  4 |   0 |   0 | 7.862008e+00 | 7.862008e+00 |   0.00%| unknown\n",
      "\n",
      "SCIP Status        : problem is solved [optimal solution found]\n",
      "Solving Time (sec) : 0.05\n",
      "Solving Nodes      : 1\n",
      "Primal Bound       : +7.86200831868080e+00 (2 solutions)\n",
      "Dual Bound         : +7.86200831868080e+00\n",
      "Gap                : 0.00 %\n",
      "presolving:\n",
      "(round 1, fast)       0 del vars, 0 del conss, 0 add conss, 7 chg bounds, 0 chg sides, 0 chg coeffs, 0 upgd conss, 0 impls, 0 clqs\n",
      "   (0.0s) symmetry computation started: requiring (bin +, int +, cont +), (fixed: bin -, int -, cont -)\n",
      "   (0.0s) no symmetry present (symcode time: 0.00)\n",
      "presolving (2 rounds: 2 fast, 1 medium, 1 exhaustive):\n",
      " 0 deleted vars, 0 deleted constraints, 0 added constraints, 7 tightened bounds, 0 added holes, 0 changed sides, 0 changed coefficients\n",
      " 0 implications, 0 cliques\n",
      "presolved problem has 7 variables (0 bin, 0 int, 0 impl, 7 cont) and 7 constraints\n",
      "      4 constraints of type <linear>\n",
      "      3 constraintsobj: 8.788372400122121\n",
      "{'x(1)': 0.12925037698948305, 'x(2)': 0.45387737233463504, 'x(3)': 0.24321572769589522, 'x(4)': 0.17365652297998665, 'rhs(4)': 0.02232381740014422}\n",
      " of type <nonlinear>\n",
      "Presolving Time: 0.00\n",
      "\n",
      " time | node  | left  |LP iter|LP it/n|mem/heur|mdpt |vars |cons |rows |cuts |sepa|confs|strbr|  dualbound   | primalbound  |  gap   | compl. \n",
      "  0.0s|     1 |     0 |    25 |     - |   763k |   0 |  22 |   7 |  31 |   0 |  0 |   0 |   0 | 8.168963e+00 |      --      |    Inf | unknown\n",
      "L 0.1s|     1 |     0 |    25 |     - |  subnlp|   0 |  22 |   7 |  31 |   0 |  0 |   0 |   0 | 8.168963e+00 | 8.229053e+00 |   0.74%| unknown\n",
      "  0.1s|     1 |     0 |    34 |     - |   763k |   0 |  22 |   7 |  40 |   9 |  1 |   0 |   0 | 8.219531e+00 | 8.229053e+00 |   0.12%| unknown\n",
      "  0.1s|     1 |     0 |    34 |     - |   763k |   0 |  22 |   7 |  40 |   9 |  1 |   0 |   0 | 8.219531e+00 | 8.229053e+00 |   0.12%| unknown\n",
      "  0.1s|     1 |     0 |    40 |     - |   780k |   0 |  22 |   7 |  46 |  15 |  2 |   0 |   0 | 8.228861e+00 | 8.229053e+00 |   0.00%| unknown\n",
      "  0.1s|     1 |     0 |    40 |     - |   780k |   0 |  22 |   7 |  46 |  15 |  3 |   0 |   0 | 8.228861e+00 | 8.229053e+00 |   0.00%| unknown\n",
      "* 0.1s|     1 |     0 |    40 |     - |    LP  |   0 |  22 |   7 |  46 |  15 |  4 |   0 |   0 | 8.228861e+00 | 8.228861e+00 |   0.00%| unknown\n",
      "\n",
      "SCIP Status        : problem is solved [optimal solution found]\n",
      "Solving Time (sec) : 0.10\n",
      "Solving Nodes      : 1\n",
      "Primal Bound       : +8.22886139249670e+00 (2 solutions)\n",
      "Dual Bound         : +8.22886139249670e+00\n",
      "Gap                : 0.00 %\n",
      "presolving:\n",
      "(round 1, fast)       0 del vars, 0 del conss, 0 add conss, 7 chg bounds, 0 chg sides, 0 chg coeffs, 0 upgd conss, 0 impls, 0 clqs\n",
      "   (0.0s) symmetry computation started: requiring (bin +, int +, cont +), (fixed: bin -, int -, cont -)\n",
      "   (0.0s) no symmetry present (symcode time: 0.00)\n",
      "presolving (2 rounds: 2 fast, 1 medium, 1 exhaustive):\n",
      " 0 deleted vars, 0 deleted constraints, 0 added constraints, 7 tightened bounds, 0 added holes, 0 changed sides, 0 changed coefficients\n",
      " 0 implications, 0 cliques\n",
      "presolved problem has 7 variables (0 bin, 0 int, 0 impl, 7 cont) and 7 constraints\n",
      "      4 constraints of type <linear>\n",
      "      3 constraints of type <nonlinear>\n",
      "Presolving Time: 0.00\n",
      "\n",
      " time | node  | left  |LP iter|LP it/n|mem/heur|mdpt |vars |cons |rows |cuts |sepa|confs|strbr|  dualbound   | primalbound  |  gap   | compl. \n",
      "  0.0s|     1 |     0 |    23 |     - |   763k |   0 |  22 |   7 |  31 |   0 |  0 |   0 |   0 | 8.570112e+00 |      --      |    Inf | unknown\n",
      "L 0.0s|     1 |     0 |    23 |     - |  subnlp|   0 |  22 |   7 |  31 |   0 |  0 |   0 |   0 | 8.570112e+00 | 8.791988e+00 |   2.59%| unknown\n",
      "  0.0s|     1 |     0 |    29 |     - |   763k |   0 |  22 |   7 |  37 |   6 |  1 |   0 |   0 | 8.735458e+00 | 8.791988e+00 |   0.65%| unknown\n",
      "  0.0s|     1 |     0 |    29 |     - |   763k |   0 |  22 |   7 |  37 |   6 |  1 |   0 |   0 | 8.735458e+00 | 8.791988e+00 |   0.65%| unknown\n",
      "  0.0s|     1 |     0 |    35 |     - |   780k |   0 |  22 |   7 |  43 |  12 |  2 |   0 |   0 | 8.788372e+00 | 8.791988e+00 |   0.04%| unknown\n",
      "  0.0s|     1 |     0 |    35 |     - |   780k |   0 |  22 |   7 |  43 |  12 |  3 |   0 |   0 | 8.788372e+00 | 8.791988e+00 |   0.04%| unknown\n",
      "L 0.0s|     1 |     0 |    35 |     - |  subnlp|   0 |  22 |   7 |  43 |  12 |  4 |   0 |   0 | 8.788372e+00 | 8.791988e+00 |   0.04%| unknown\n",
      "  0.1s|     1 |     0 |    35 |     - |   793k |   0 |  22 |   7 |  43 |  12 |  4 |   0 |   0 | 8.788372e+00 | 8.791988e+00 |   0.04%| unknown\n",
      "* 0.1s|     1 |     0 |    35 |     - |    LP  |   0 |  22 |   7 |  43 |  12 |  5 |   0 |   0 | 8.788372e+00 | 8.788372e+00 |   0.00%| unknown\n",
      "\n",
      "SCIP Status        : problem is solved [optimal solution found]\n",
      "Solving Time (sec) : 0.06\n",
      "Solving Nodes      : 1\n",
      "Primal Bound       : +8.78837240012212e+00 (3 solutions)\n",
      "Dual Bound         : +8.78837240012212e+00\n",
      "Gap                : 0.00 %\n"
     ]
    }
   ],
   "source": [
    "I, K, a, p, epsilon, LB = make_data()\n",
    "obj_list = []\n",
    "for i in range(5):\n",
    "    epsilon = i * 0.01\n",
    "    model = prodmix(I, K, a, p, epsilon, LB)\n",
    "    model.optimize()\n",
    "    print(\"obj:\", model.getObjVal())\n",
    "    x = model.getBestSol()\n",
    "    print(x)\n",
    "    obj_list.append(model.getObjVal())"
   ]
  },
  {
   "cell_type": "code",
   "execution_count": 7,
   "metadata": {},
   "outputs": [
    {
     "data": {
      "text/plain": [
       "[7.1315789473684355,\n",
       " 7.477013882429289,\n",
       " 7.862008318680805,\n",
       " 8.228861392496697,\n",
       " 8.788372400122121]"
      ]
     },
     "execution_count": 7,
     "metadata": {},
     "output_type": "execute_result"
    }
   ],
   "source": [
    "obj_list"
   ]
  },
  {
   "cell_type": "code",
   "execution_count": 11,
   "metadata": {},
   "outputs": [
    {
     "data": {
      "text/plain": [
       "[<matplotlib.lines.Line2D at 0x10f821970>]"
      ]
     },
     "execution_count": 11,
     "metadata": {},
     "output_type": "execute_result"
    },
    {
     "data": {
      "image/png": "[encoded data removed]",
      "text/plain": [
       "<Figure size 640x480 with 1 Axes>"
      ]
     },
     "metadata": {},
     "output_type": "display_data"
    }
   ],
   "source": [
    "import matplotlib.pyplot as plt\n",
    "\n",
    "plt.plot(obj_list)"
   ]
  },
  {
   "cell_type": "markdown",
   "metadata": {},
   "source": [
    "錐制約があるときとないときでSCIPの出力が変化するかどうかを見る"
   ]
  },
  {
   "cell_type": "code",
   "execution_count": 12,
   "metadata": {},
   "outputs": [
    {
     "name": "stdout",
     "output_type": "stream",
     "text": [
      "obj:presolving:\n",
      " 7.1315789473684355\n",
      "{'x(1)': 0.6052631578947363, 'x(2)': 0.0, 'x(3)': 0.3157894736842106, 'x(4)': 0.07894736842105343, 'rhs(4)': 0.0}\n",
      "(round 1, fast)       0 del vars, 3 del conss, 0 add conss, 7 chg bounds, 0 chg sides, 0 chg coeffs, 0 upgd conss, 0 impls, 0 clqs\n",
      "   (0.0s) symmetry computation started: requiring (bin +, int +, cont +), (fixed: bin -, int -, cont -)\n",
      "   (0.0s) no symmetry present (symcode time: 0.00)\n",
      "presolving (2 rounds: 2 fast, 1 medium, 1 exhaustive):\n",
      " 0 deleted vars, 3 deleted constraints, 0 added constraints, 7 tightened bounds, 0 added holes, 0 changed sides, 0 changed coefficients\n",
      " 0 implications, 0 cliques\n",
      "presolved problem has 7 variables (0 bin, 0 int, 0 impl, 7 cont) and 4 constraints\n",
      "      4 constraints of type <linear>\n",
      "Presolving Time: 0.00\n",
      "\n",
      " time | node  | left  |LP iter|LP it/n|mem/heur|mdpt |vars |cons |rows |cuts |sepa|confs|strbr|  dualbound   | primalbound  |  gap   | compl. \n",
      "* 0.0s|     1 |     0 |     4 |     - |    LP  |   0 |   7 |   4 |   4 |   0 |  0 |   0 |   0 | 7.131579e+00 | 7.131579e+00 |   0.00%| unknown\n",
      "  0.0s|     1 |     0 |     4 |     - |   654k |   0 |   7 |   4 |   4 |   0 |  0 |   0 |   0 | 7.131579e+00 | 7.131579e+00 |   0.00%| unknown\n",
      "\n",
      "SCIP Status        : problem is solved [optimal solution found]\n",
      "Solving Time (sec) : 0.00\n",
      "Solving Nodes      : 1\n",
      "Primal Bound       : +7.13157894736844e+00 (1 solutions)\n",
      "Dual Bound         : +7.13157894736844e+00\n",
      "Gap                : 0.00 %\n"
     ]
    }
   ],
   "source": [
    "I, K, a, p, epsilon, LB = make_data()\n",
    "obj_list = []\n",
    "i=0\n",
    "\n",
    "epsilon = i * 0.01\n",
    "model = prodmix(I, K, a, p, epsilon, LB)\n",
    "model.optimize()\n",
    "print(\"obj:\", model.getObjVal())\n",
    "x = model.getBestSol()\n",
    "print(x)\n",
    "obj_list.append(model.getObjVal())"
   ]
  },
  {
   "cell_type": "code",
   "execution_count": 13,
   "metadata": {},
   "outputs": [
    {
     "name": "stdout",
     "output_type": "stream",
     "text": [
      "presolving:\n",
      "obj: 7.477013882429289\n",
      "{'x(1)': 0.5324045158747794, 'x(2)': 0.052938366080576456, 'x(3)': 0.31631510452674577, 'x(4)': 0.09834201351789836, 'rhs(4)': 0.006264105823669539}\n",
      "(round 1, fast)       0 del vars, 0 del conss, 0 add conss, 7 chg bounds, 0 chg sides, 0 chg coeffs, 0 upgd conss, 0 impls, 0 clqs\n",
      "   (0.0s) symmetry computation started: requiring (bin +, int +, cont +), (fixed: bin -, int -, cont -)\n",
      "   (0.0s) no symmetry present (symcode time: 0.00)\n",
      "presolving (2 rounds: 2 fast, 1 medium, 1 exhaustive):\n",
      " 0 deleted vars, 0 deleted constraints, 0 added constraints, 7 tightened bounds, 0 added holes, 0 changed sides, 0 changed coefficients\n",
      " 0 implications, 0 cliques\n",
      "presolved problem has 7 variables (0 bin, 0 int, 0 impl, 7 cont) and 7 constraints\n",
      "      4 constraints of type <linear>\n",
      "      3 constraints of type <nonlinear>\n",
      "Presolving Time: 0.00\n",
      "\n",
      " time | node  | left  |LP iter|LP it/n|mem/heur|mdpt |vars |cons |rows |cuts |sepa|confs|strbr|  dualbound   | primalbound  |  gap   | compl. \n",
      "  0.0s|     1 |     0 |    15 |     - |   763k |   0 |  22 |   7 |  31 |   0 |  0 |   0 |   0 | 7.405958e+00 |      --      |    Inf | unknown\n",
      "L 0.1s|     1 |     0 |    15 |     - |  subnlp|   0 |  22 |   7 |  31 |   0 |  0 |   0 |   0 | 7.405958e+00 | 7.478896e+00 |   0.98%| unknown\n",
      "  0.1s|     1 |     0 |    24 |     - |   763k |   0 |  22 |   7 |  40 |   9 |  1 |   0 |   0 | 7.477014e+00 | 7.478896e+00 |   0.03%| unknown\n",
      "  0.1s|     1 |     0 |    24 |     - |   763k |   0 |  22 |   7 |  40 |   9 |  1 |   0 |   0 | 7.477014e+00 | 7.478896e+00 |   0.03%| unknown\n",
      "  0.1s|     1 |     0 |    24 |     - |   763k |   0 |  22 |   7 |  40 |   9 |  2 |   0 |   0 | 7.477014e+00 | 7.478896e+00 |   0.03%| unknown\n",
      "* 0.1s|     1 |     0 |    24 |     - |    LP  |   0 |  22 |   7 |  40 |   9 |  3 |   0 |   0 | 7.477014e+00 | 7.477014e+00 |   0.00%| unknown\n",
      "\n",
      "SCIP Status        : problem is solved [optimal solution found]\n",
      "Solving Time (sec) : 0.12\n",
      "Solving Nodes      : 1\n",
      "Primal Bound       : +7.47701388242929e+00 (2 solutions)\n",
      "Dual Bound         : +7.47701388242929e+00\n",
      "Gap                : 0.00 %\n"
     ]
    }
   ],
   "source": [
    "I, K, a, p, epsilon, LB = make_data()\n",
    "obj_list = []\n",
    "i=1\n",
    "\n",
    "epsilon = i * 0.01\n",
    "model = prodmix(I, K, a, p, epsilon, LB)\n",
    "model.optimize()\n",
    "print(\"obj:\", model.getObjVal())\n",
    "x = model.getBestSol()\n",
    "print(x)\n",
    "obj_list.append(model.getObjVal())"
   ]
  },
  {
   "cell_type": "markdown",
   "metadata": {},
   "source": [
    "出力の制御: `model.hideOutput()` でソルバの出力をなくせる"
   ]
  },
  {
   "cell_type": "code",
   "execution_count": 18,
   "metadata": {},
   "outputs": [
    {
     "name": "stdout",
     "output_type": "stream",
     "text": [
      "obj: 7.477013882429289\n",
      "{'x(1)': 0.5324045158747794, 'x(2)': 0.052938366080576456, 'x(3)': 0.31631510452674577, 'x(4)': 0.09834201351789836, 'rhs(4)': 0.006264105823669539}\n"
     ]
    }
   ],
   "source": [
    "I, K, a, p, epsilon, LB = make_data()\n",
    "obj_list = []\n",
    "i=1\n",
    "\n",
    "epsilon = i * 0.01\n",
    "model = prodmix(I, K, a, p, epsilon, LB)\n",
    "model.hideOutput()\n",
    "model.optimize()\n",
    "print(\"obj:\", model.getObjVal())\n",
    "x = model.getBestSol()\n",
    "print(x)\n",
    "obj_list.append(model.getObjVal())"
   ]
  }
 ],
 "metadata": {
  "kernelspec": {
   "display_name": ".venv",
   "language": "python",
   "name": "python3"
  },
  "language_info": {
   "codemirror_mode": {
    "name": "ipython",
    "version": 3
   },
   "file_extension": ".py",
   "mimetype": "text/x-python",
   "name": "python",
   "nbconvert_exporter": "python",
   "pygments_lexer": "ipython3",
   "version": "3.9.16"
  }
 },
 "nbformat": 4,
 "nbformat_minor": 2
}
