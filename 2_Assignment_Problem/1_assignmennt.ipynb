{
 "cells": [
  {
   "cell_type": "markdown",
   "metadata": {},
   "source": [
    "# 割当問題\n",
    "\n",
    "$$\n",
    "\\mathrm{minimize}_{\\pi: V\\to V} \\sum_{i\\in V} c_{i, \\pi(i)}\n",
    "$$"
   ]
  },
  {
   "cell_type": "code",
   "execution_count": 1,
   "metadata": {},
   "outputs": [],
   "source": [
    "import numpy as np\n",
    "from scipy.optimize import linear_sum_assignment\n",
    "\n",
    "n = 1000\n",
    "cost = np.random.randint(100, 1000, size=(n, n))"
   ]
  },
  {
   "cell_type": "code",
   "execution_count": 2,
   "metadata": {},
   "outputs": [
    {
     "name": "stdout",
     "output_type": "stream",
     "text": [
      "101033\n",
      "CPU times: user 25.1 ms, sys: 2.35 ms, total: 27.4 ms\n",
      "Wall time: 26.9 ms\n"
     ]
    }
   ],
   "source": [
    "%%time\n",
    "row_ind, col_ind = linear_sum_assignment(cost)\n",
    "print(cost[row_ind, col_ind].sum())"
   ]
  },
  {
   "cell_type": "code",
   "execution_count": 3,
   "metadata": {},
   "outputs": [],
   "source": [
    "import networkx as nx\n",
    "\n",
    "G = nx.DiGraph()\n",
    "#n = len(cost)\n",
    "for i in range(n):\n",
    "    G.add_node(i, demand=-1)\n",
    "    G.add_node(n + i, demand=1)\n",
    "G.add_weighted_edges_from([(i, n + j, cost[i, j]) for i in range(n) for j in range(n)])"
   ]
  },
  {
   "cell_type": "code",
   "execution_count": 4,
   "metadata": {},
   "outputs": [
    {
     "name": "stdout",
     "output_type": "stream",
     "text": [
      "101033\n",
      "CPU times: user 10.6 s, sys: 319 ms, total: 10.9 s\n",
      "Wall time: 11.2 s\n"
     ]
    }
   ],
   "source": [
    "%%time\n",
    "val, flow = nx.algorithms.flow.network_simplex(G)\n",
    "print(val)"
   ]
  },
  {
   "cell_type": "code",
   "execution_count": 5,
   "metadata": {},
   "outputs": [
    {
     "name": "stdout",
     "output_type": "stream",
     "text": [
      "101033\n",
      "CPU times: user 1min 15s, sys: 16.2 s, total: 1min 31s\n",
      "Wall time: 1min 39s\n"
     ]
    }
   ],
   "source": [
    "%%time\n",
    "val, flowDict = nx.capacity_scaling(G)\n",
    "print(val)"
   ]
  },
  {
   "cell_type": "code",
   "execution_count": 6,
   "metadata": {},
   "outputs": [],
   "source": [
    "from pyscipopt import Model, quicksum\n",
    "\n",
    "V = list(range(n))\n",
    "model = Model(\"ap\")\n",
    "x = {}\n",
    "for i in V:\n",
    "    for j in V:\n",
    "        x[i, j] = model.addVar(name=f\"x[{i},{j}]\")\n",
    "\n",
    "for j in V:\n",
    "    model.addCons(quicksum(x[i, j] for i in V) == 1)\n",
    "for i in V:\n",
    "    model.addCons(quicksum(x[i, j] for j in V) == 1)\n",
    "\n",
    "model.setObjective(quicksum(cost[i, j] * x[i, j] for i in V for j in V), sense='minimize')\n",
    "\n",
    "#model.optimize()\n",
    "#print(model.getObjVal())"
   ]
  },
  {
   "cell_type": "code",
   "execution_count": 7,
   "metadata": {},
   "outputs": [
    {
     "name": "stdout",
     "output_type": "stream",
     "text": [
      "presolving:\n",
      "101033.0\n",
      "CPU times: user 18.3 s, sys: 1.99 s, total: 20.3 s\n",
      "Wall time: 21.2 s\n",
      "(round 1, fast)       0 del vars, 0 del conss, 0 add conss, 1000000 chg bounds, 0 chg sides, 0 chg coeffs, 0 upgd conss, 0 impls, 0 clqs\n",
      "   (4.6s) symmetry computation started: requiring (bin +, int +, cont +), (fixed: bin -, int -, cont -)\n",
      "   (5.1s) no symmetry present (symcode time: 0.08)\n",
      "presolving (2 rounds: 2 fast, 1 medium, 1 exhaustive):\n",
      " 0 deleted vars, 0 deleted constraints, 0 added constraints, 1000000 tightened bounds, 0 added holes, 0 changed sides, 0 changed coefficients\n",
      " 0 implications, 0 cliques\n",
      "presolved problem has 1000000 variables (0 bin, 0 int, 0 impl, 1000000 cont) and 2000 constraints\n",
      "   2000 constraints of type <linear>\n",
      "Presolving Time: 3.73\n",
      "\n",
      " time | node  | left  |LP iter|LP it/n|mem/heur|mdpt |vars |cons |rows |cuts |sepa|confs|strbr|  dualbound   | primalbound  |  gap   | compl. \n",
      "*20.9s|     1 |     0 |  3203 |     - |    LP  |   0 |1000k|2000 |2000 |   0 |  0 |   0 |   0 | 1.010330e+05 | 1.010330e+05 |   0.00%| unknown\n",
      " 20.9s|     1 |     0 |  3203 |     - |  4058M |   0 |1000k|2000 |2000 |   0 |  0 |   0 |   0 | 1.010330e+05 | 1.010330e+05 |   0.00%| unknown\n",
      "\n",
      "SCIP Status        : problem is solved [optimal solution found]\n",
      "Solving Time (sec) : 20.88\n",
      "Solving Nodes      : 1\n",
      "Primal Bound       : +1.01033000000000e+05 (1 solutions)\n",
      "Dual Bound         : +1.01033000000000e+05\n",
      "Gap                : 0.00 %\n"
     ]
    }
   ],
   "source": [
    "%%time\n",
    "\n",
    "model.optimize()\n",
    "print(model.getObjVal())"
   ]
  },
  {
   "cell_type": "code",
   "execution_count": null,
   "metadata": {},
   "outputs": [],
   "source": []
  }
 ],
 "metadata": {
  "kernelspec": {
   "display_name": ".venv",
   "language": "python",
   "name": "python3"
  },
  "language_info": {
   "codemirror_mode": {
    "name": "ipython",
    "version": 3
   },
   "file_extension": ".py",
   "mimetype": "text/x-python",
   "name": "python",
   "nbconvert_exporter": "python",
   "pygments_lexer": "ipython3",
   "version": "3.9.16"
  }
 },
 "nbformat": 4,
 "nbformat_minor": 2
}
