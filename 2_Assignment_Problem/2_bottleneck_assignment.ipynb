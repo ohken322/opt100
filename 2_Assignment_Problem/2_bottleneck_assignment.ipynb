{
 "cells": [
  {
   "cell_type": "markdown",
   "metadata": {
    "vscode": {
     "languageId": "plaintext"
    }
   },
   "source": [
    "# ボトルネック割当問題\n",
    "\n",
    "$$\n",
    "\\mathrm{minimize}_{\\pi: V\\to V} \\max_{i\\in V} c_{i, \\pi(i)}\n",
    "$$"
   ]
  },
  {
   "cell_type": "markdown",
   "metadata": {},
   "source": [
    "MIPソルバで解く場合は，$z = \\max_{i\\in V} c_{i, \\pi(i)}$ を満たす連続変数 $z$ を導入し，$z$ を最小化する．\n",
    "\n",
    "解 $\\pi$ に対応する変数 $x_{ij} \\ (\\sum_i x_{ij} = \\sum_j x_{ij} = 1)$ について，$c_{i, \\pi(i)} = \\sum_j c_{i,j} x_{ij}$ に注意すると，\n",
    "$z$ に課す制約は\n",
    "$$\n",
    "z \\ge \\sum_j c_{i,j} x_{ij} \\ \\forall i\n",
    "$$\n",
    "となる．"
   ]
  },
  {
   "cell_type": "code",
   "execution_count": 1,
   "metadata": {},
   "outputs": [
    {
     "name": "stdout",
     "output_type": "stream",
     "text": [
      "presolving:\n",
      "obj= 143.0\n",
      "(round 1, exhaustive) 0 del vars, 0 del conss, 0 add conss, 1 chg bounds, 0 chg sides, 0 chg coeffs, 200 upgd conss, 0 impls, 200 clqs\n",
      "   (0.1s) sparsify aborted: 207/30100 (0.7%) nonzeros canceled - in total 207 canceled nonzeros, 9600 changed coefficients, 0 added nonzeros\n",
      "(round 2, exhaustive) 0 del vars, 0 del conss, 0 add conss, 1 chg bounds, 0 chg sides, 9600 chg coeffs, 200 upgd conss, 0 impls, 200 clqs\n",
      "   (0.3s) probing: 1000/10000 (10.0%) - 0 fixings, 0 aggregations, 972 implications, 0 bound changes\n",
      "   (0.3s) probing: 1001/10000 (10.0%) - 0 fixings, 0 aggregations, 973 implications, 0 bound changes\n",
      "   (0.3s) probing aborted: 1000/1000 successive useless probings\n",
      "   (0.3s) symmetry computation started: requiring (bin +, int +, cont +), (fixed: bin -, int -, cont -)\n",
      "   (0.3s) no symmetry present (symcode time: 0.00)\n",
      "presolving (3 rounds: 3 fast, 3 medium, 3 exhaustive):\n",
      " 0 deleted vars, 0 deleted constraints, 0 added constraints, 5 tightened bounds, 0 added holes, 0 changed sides, 9609 changed coefficients\n",
      " 973 implications, 200 cliques\n",
      "presolved problem has 10001 variables (10000 bin, 0 int, 1 impl, 0 cont) and 300 constraints\n",
      "    200 constraints of type <setppc>\n",
      "    100 constraints of type <linear>\n",
      "transformed objective value is always integral (scale: 1)\n",
      "Presolving Time: 0.33\n",
      "\n",
      " time | node  | left  |LP iter|LP it/n|mem/heur|mdpt |vars |cons |rows |cuts |sepa|confs|strbr|  dualbound   | primalbound  |  gap   | compl. \n",
      "p 0.4s|     1 |     0 |     0 |     - |  clique|   0 |  10k| 300 | 300 |   0 |  0 |   0 |   0 | 1.190000e+02 | 9.900000e+02 | 731.93%| unknown\n",
      "p 0.4s|     1 |     0 |     1 |     - |   locks|   0 |  10k| 300 | 300 |   0 |  0 |   0 |   0 | 1.190000e+02 | 9.060000e+02 | 661.34%| unknown\n",
      "p 0.4s|     1 |     0 |     1 |     - | vbounds|   0 |  10k| 302 | 300 |   0 |  0 |   4 |   0 | 1.190000e+02 | 9.030000e+02 | 658.82%| unknown\n",
      "  0.7s|     1 |     0 |  4513 |     - |   112M |   0 |  10k| 301 | 300 |   0 |  0 |   4 |   0 | 1.430000e+02 | 9.030000e+02 | 531.47%| unknown\n",
      "  0.7s|     1 |     0 |  4513 |     - |   112M |   0 |  10k| 301 | 300 |   0 |  0 |   4 |   0 | 1.430000e+02 | 9.030000e+02 | 531.47%| unknown\n",
      "  0.7s|     1 |     0 |  4513 |     - |   112M |   0 |  10k| 301 | 300 |   0 |  0 |   4 |   0 | 1.430000e+02 | 9.030000e+02 | 531.47%| unknown\n",
      "  1.0s|     1 |     0 |  6012 |     - |   121M |   0 |  10k| 301 | 409 | 109 |  1 |   4 |   0 | 1.430000e+02 | 9.030000e+02 | 531.47%| unknown\n",
      "  1.1s|     1 |     0 |  7183 |     - |   128M |   0 |  10k| 301 | 476 | 176 |  2 |   4 |   0 | 1.430000e+02 | 9.030000e+02 | 531.47%| unknown\n",
      "  1.2s|     1 |     0 |  8247 |     - |   133M |   0 |  10k| 301 | 534 | 234 |  3 |   4 |   0 | 1.430000e+02 | 9.030000e+02 | 531.47%| unknown\n",
      "  1.3s|     1 |     0 |  8562 |     - |   138M |   0 |  10k| 301 | 576 | 276 |  4 |   4 |   0 | 1.430000e+02 | 9.030000e+02 | 531.47%| unknown\n",
      "  1.3s|     1 |     0 |  8588 |     - |   141M |   0 |  10k| 301 | 599 | 299 |  5 |   4 |   0 | 1.430000e+02 | 9.030000e+02 | 531.47%| unknown\n",
      "d 1.3s|     1 |     0 |  8588 |     - |conflict|   0 |  10k| 301 | 599 |   0 |  6 |   4 |   0 | 1.430000e+02 | 1.430000e+02 |   0.00%| unknown\n",
      "  1.3s|     1 |     0 |  8588 |     - |   141M |   0 |  10k| 301 | 599 | 299 |  6 |   4 |   0 | 1.430000e+02 | 1.430000e+02 |   0.00%| unknown\n",
      "\n",
      "SCIP Status        : problem is solved [optimal solution found]\n",
      "Solving Time (sec) : 1.34\n",
      "Solving Nodes      : 1\n",
      "Primal Bound       : +1.43000000000000e+02 (4 solutions)\n",
      "Dual Bound         : +1.43000000000000e+02\n",
      "Gap                : 0.00 %\n"
     ]
    }
   ],
   "source": [
    "import numpy as np\n",
    "from pyscipopt import Model, quicksum\n",
    "\n",
    "n = 100 # 1000 だと全然終わらない (200でも数分以上かかる)\n",
    "cost = np.random.randint(100, 1000, size=(n, n))\n",
    "\n",
    "V = list(range(n))\n",
    "model = Model(\"bap\")\n",
    "x = {}\n",
    "for i in V:\n",
    "    for j in V:\n",
    "        x[i, j] = model.addVar(vtype=\"B\", name=f\"x[{i},{j}]\")\n",
    "z = model.addVar(vtype=\"C\", name=\"z\")\n",
    "\n",
    "for i in V:\n",
    "    model.addCons(quicksum(cost[i, j] * x[i, j] for j in V) <= z)\n",
    "\n",
    "for j in V:\n",
    "    model.addCons(quicksum(x[i, j] for i in V) == 1)\n",
    "for i in V:\n",
    "    model.addCons(quicksum(x[i, j] for j in V) == 1)\n",
    "\n",
    "model.setObjective(z, sense='minimize')\n",
    "\n",
    "model.setParam(\"limits/time\", 300.0)  # 計算時間の上限を設定\n",
    "\n",
    "model.optimize() \n",
    "print(\"obj=\", model.getObjVal())"
   ]
  },
  {
   "cell_type": "markdown",
   "metadata": {},
   "source": [
    "閾値を設定して通常の割当問題の実行可能解を繰り返し求めることでも解ける\n",
    "(二分探索しても良いがたいてい下から探すので十分早いらしい)"
   ]
  },
  {
   "cell_type": "code",
   "execution_count": 2,
   "metadata": {},
   "outputs": [],
   "source": [
    "from scipy.optimize import linear_sum_assignment"
   ]
  },
  {
   "cell_type": "code",
   "execution_count": 3,
   "metadata": {},
   "outputs": [],
   "source": [
    "n = 1000\n",
    "cost = np.random.randint(100, 1000, size=(n, n))"
   ]
  },
  {
   "cell_type": "code",
   "execution_count": 4,
   "metadata": {},
   "outputs": [
    {
     "name": "stdout",
     "output_type": "stream",
     "text": [
      "LB=np.int64(106), UB=np.int64(107)\n",
      "Trial with t = 106\n",
      "Optimum: 106\n",
      "CPU times: user 40.5 ms, sys: 3.57 ms, total: 44 ms\n",
      "Wall time: 43.6 ms\n"
     ]
    }
   ],
   "source": [
    "%%time\n",
    "LB = max(cost.min(axis=1).max(), cost.min(axis=0).max() )\n",
    "row_ind, col_ind = linear_sum_assignment(cost)\n",
    "UB = cost[row_ind, col_ind].max()\n",
    "print(f'{LB=}, {UB=}')\n",
    "for t in range(LB, UB):\n",
    "    print(\"Trial with t =\", t)\n",
    "    c = cost.flatten()\n",
    "    c = np.where(c > t, np.inf, c)\n",
    "    c.shape=(n,n)\n",
    "    try:\n",
    "        row_ind, col_ind = linear_sum_assignment(c)\n",
    "        break\n",
    "    except:\n",
    "        continue\n",
    "print(\"Optimum:\", cost[row_ind, col_ind].max())"
   ]
  },
  {
   "cell_type": "code",
   "execution_count": null,
   "metadata": {},
   "outputs": [],
   "source": []
  }
 ],
 "metadata": {
  "kernelspec": {
   "display_name": ".venv",
   "language": "python",
   "name": "python3"
  },
  "language_info": {
   "codemirror_mode": {
    "name": "ipython",
    "version": 3
   },
   "file_extension": ".py",
   "mimetype": "text/x-python",
   "name": "python",
   "nbconvert_exporter": "python",
   "pygments_lexer": "ipython3",
   "version": "3.9.16"
  }
 },
 "nbformat": 4,
 "nbformat_minor": 2
}
