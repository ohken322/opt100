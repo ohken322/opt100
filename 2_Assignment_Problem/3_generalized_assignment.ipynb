{
 "cells": [
  {
   "cell_type": "markdown",
   "metadata": {},
   "source": [
    "# 一般化割当問題\n",
    "\n",
    "一対一の割当問題を一対多に拡張した問題設定．\n",
    "一つの仕事は一つの資源に割り当てられるが，各資源はその許容量の範囲内で複数の仕事を実行して良い．\n",
    "仕事を実行した時に許容量から消費される資源の量 $a_{ij}$ は資源 $i$ と仕事 $j$ の組み合わせで決まっている．\n",
    "\n",
    "$$\n",
    "\\mathrm{minimize} \\sum_{i, j} c_{ij} x_{ij} \\\\\n",
    "\\mathrm{subject \\ to} \\sum_j a_{ij} x_{ij} \\le b_i \\ \\forall i \\\\\n",
    "\\sum_i x_{ij} = 1 \\ \\forall j \\\\\n",
    "x_{ij} \\in \\{0,1\\}\n",
    "$$\n"
   ]
  },
  {
   "cell_type": "markdown",
   "metadata": {},
   "source": [
    "- $a_{ij}=1, b_i=1$ で通常の割当問題に帰着される\n",
    "- 一般化割当問題(GAP)はナップサック問題(KP) $\\max_x \\sum_j p_j x_j, \\ \\mathrm{s.t.\\ } \\sum_j w_j x_j \\le C, x_j \\in \\{0,1\\}$ を含む．なぜなら，資源$i$の数$m$を2とし，$i=1$に対して$c_{1j} = -p_j, a_{1j}=w_j, b_1=C$と定義して$i=2$に対して$c_{2j} = 0, a_{1j}=0, b_1\\ge 0$ (制約を無効化する) と定義すれば資源1をナップサック内，資源2をナップサック外として表現できる ($c_{ij}\\ge 0$である必要があれば，コスト全体に大きな定数を足せば良い)"
   ]
  },
  {
   "cell_type": "markdown",
   "metadata": {},
   "source": [
    "ここではMIPソルバーを用いた求解のみ試す．\n",
    "(メタヒューリスティクスは実装していない)\n",
    "\n",
    "問題インスタンスのダウンロードは `get_gap_data.sh` を親ディレクトリから実行せよ．"
   ]
  },
  {
   "cell_type": "code",
   "execution_count": 1,
   "metadata": {},
   "outputs": [],
   "source": [
    "folder = \"../data/gap/\"\n",
    "f = open(folder + \"a05100\")\n",
    "data = f.readlines()\n",
    "f.close()"
   ]
  },
  {
   "cell_type": "code",
   "execution_count": 2,
   "metadata": {},
   "outputs": [],
   "source": [
    "m, n = list(map(int, data[0].split()))\n",
    "cost, a, b = {}, {}, {}\n",
    "data_ = []\n",
    "for row in data[1:]:\n",
    "    data_.extend(list(map(int, row.split())))\n",
    "count = 0\n",
    "for i in range(m):\n",
    "    for j in range(n):\n",
    "        cost[i, j] = data_[count]\n",
    "        count += 1\n",
    "for i in range(m):\n",
    "    for j in range(n):\n",
    "        a[i, j] = data_[count]\n",
    "        count += 1\n",
    "for i in range(m):\n",
    "    b[i] = data_[count]\n",
    "    count += 1"
   ]
  },
  {
   "cell_type": "code",
   "execution_count": 3,
   "metadata": {},
   "outputs": [
    {
     "name": "stdout",
     "output_type": "stream",
     "text": [
      "presolving:\n",
      "(round 1, exhaustive) 0 del vars, 0 del conss, 0 add conss, 0 chg bounds, 0 chg sides, 0 chg coeffs, 105 upgd conss, 0 impls, 100 clqs\n",
      "   (0.0s) probing: 51/500 (10.2%) - 0 fixings, 0 aggregations, 0 implications, 0 bound changes\n",
      "   (0.0s) probing aborted: 50/50 successive totally useless probings\n",
      "   (0.0s) symmetry computation started: requiring (bin +, int +, cont +), (fixed: bin -, int -, cont -)\n",
      "   (0.0s) no symmetry present (symcode time: 0.00)\n",
      "presolving (2 rounds: 2 fast, 2 medium, 2 exhaustive):\n",
      " 0 deleted vars, 0 deleted constraints, 0 added constraints, 0 tightened bounds, 0 added holes, 0 changed sides, 0 changed coefficients\n",
      " 0 implications, 100 cliques\n",
      "presolved problem has 500 variables (500 bin, 0 int, 0 impl, 0 cont) and 105 constraints\n",
      "      5 constraints of type <knapsack>\n",
      "    100 constraints of type <setppc>\n",
      "transformed objective value is always integral (scale: 1)\n",
      "Presolving Time: 0.00\n",
      "\n",
      " time | node  | left  |LP iter|LP it/n|mem/heur|mdpt |vars |cons |rows |cuts |sepa|confs|strbr|  dualbound   | primalbound  |  gap   | compl. \n",
      "p 0.0s|     1 |     0 |     0 |     - |  clique|   0 | 500 | 105 | 105 |   0 |  0 |   0 |   0 | 0.000000e+00 | 1.709000e+03 |    Inf | unknown\n",
      "  0.0s|     1 |     0 |   101 |     - |  5605k |   0 | 500 | 107 | 105 |   0 |  0 |   2 |   0 | 1.697727e+03 | 1.709000e+03 |   0.66%| unknown\n",
      "r 0.0s|     1 |     0 |   101 |     - |randroun|   0 | 500 | 107 | 105 |   0 |  0 |   2 |   0 | 1.697727e+03 | 1.698000e+03 |   0.02%| unknown\n",
      "  0.0s|     1 |     0 |   101 |     - |  5605k |   0 | 500 | 107 | 105 |   0 |  0 |   2 |   0 | 1.698000e+03 | 1.698000e+03 |   0.00%| unknown\n",
      "  0.0s|     1 |     0 |   101 |     - |  5605k |   0 | 500 | 107 | 105 |   0 |  0 |   2 |   0 | 1.698000e+03 | 1.698000e+03 |   0.00%| unknown\n",
      "\n",
      "SCIP Status        : problem is solved [optimal solution found]\n",
      "Solving Time (sec) : 0.01\n",
      "Solving Nodes      : 1\n",
      "Primal Bound       : +1.69800000000000e+03 (2 solutions)\n",
      "Dual Bound         : +1.69800000000000e+03\n",
      "Gap                : 0.00 %\n"
     ]
    }
   ],
   "source": [
    "from pyscipopt import Model, quicksum\n",
    "\n",
    "I = list(range(m))\n",
    "J = list(range(n))\n",
    "model = Model(\"gap\")\n",
    "x = {}\n",
    "for i in I:\n",
    "    for j in J:\n",
    "        x[i, j] = model.addVar(vtype=\"B\", name=f\"x[{i},{j}]\")\n",
    "\n",
    "for i in I:\n",
    "    model.addCons(quicksum(a[i, j] * x[i, j] for j in J) <= b[i])\n",
    "for j in J:\n",
    "    model.addCons(quicksum(x[i, j] for i in I) == 1)\n",
    "\n",
    "model.setObjective(quicksum(cost[i, j] * x[i, j] for i in I for j in J), sense='minimize')\n",
    "\n",
    "model.optimize()"
   ]
  },
  {
   "cell_type": "code",
   "execution_count": 4,
   "metadata": {},
   "outputs": [
    {
     "name": "stdout",
     "output_type": "stream",
     "text": [
      "1698.0\n"
     ]
    }
   ],
   "source": [
    "print(model.getObjVal())"
   ]
  },
  {
   "cell_type": "code",
   "execution_count": null,
   "metadata": {},
   "outputs": [],
   "source": []
  }
 ],
 "metadata": {
  "kernelspec": {
   "display_name": ".venv",
   "language": "python",
   "name": "python3"
  },
  "language_info": {
   "codemirror_mode": {
    "name": "ipython",
    "version": 3
   },
   "file_extension": ".py",
   "mimetype": "text/x-python",
   "name": "python",
   "nbconvert_exporter": "python",
   "pygments_lexer": "ipython3",
   "version": "3.9.16"
  }
 },
 "nbformat": 4,
 "nbformat_minor": 2
}
