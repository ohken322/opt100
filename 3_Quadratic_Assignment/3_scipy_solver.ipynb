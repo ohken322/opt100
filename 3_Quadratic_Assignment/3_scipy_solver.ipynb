{
 "cells": [
  {
   "cell_type": "markdown",
   "metadata": {},
   "source": [
    "# SciPy の近似解法\n",
    "\n",
    "`scipy.optimize.quadratic_assignment` という関数で二つの手法 `faq` と `2opt` が実装されている．\n",
    "\n",
    "`2opt` はいわゆる近傍探索で，TSPなどでも使う標準的なやり方．`faq` よりも計算は重いが良い解に到達する．\n",
    "\n",
    "`faq` は2014年に提案されたヒューリスティック解法で，0-1変数をそのまま連続緩和して勾配ベースの手法(フランクウルフ法)で解き，得られた連続解を置換行列に射影することで解を得る．勾配法での解のアップデートや置換行列への射影はどちらも線形割当問題で定式化されるのでハンガリアンアルゴリズムで解くので，1ステップあたり $O(n^3)$ の計算量かかる．"
   ]
  },
  {
   "cell_type": "code",
   "execution_count": 7,
   "metadata": {},
   "outputs": [],
   "source": [
    "import numpy as np\n",
    "from util import read_qap\n",
    "from scipy.optimize import quadratic_assignment\n",
    "folder = '../data/qap/problem/'"
   ]
  },
  {
   "cell_type": "code",
   "execution_count": null,
   "metadata": {},
   "outputs": [],
   "source": [
    "# n, f, d = read_qap(folder + \"wil50.dat\")\n",
    "n, f, d = read_qap(folder +\"tai20a.dat\")\n",
    "\n",
    "F = np.zeros((n, n))\n",
    "for (i, j) in f:\n",
    "    F[i, j] = f[i, j]\n",
    "D = np.zeros((n, n))\n",
    "for (i, j) in d:\n",
    "    D[i, j] = d[i, j]"
   ]
  },
  {
   "cell_type": "code",
   "execution_count": 11,
   "metadata": {},
   "outputs": [
    {
     "name": "stdout",
     "output_type": "stream",
     "text": [
      "CPU times: user 1 µs, sys: 1e+03 ns, total: 2 µs\n",
      "Wall time: 4.05 µs\n"
     ]
    },
    {
     "data": {
      "text/plain": [
       "     fun: 736140.0\n",
       " col_ind: [ 3  4 ...  0 19]\n",
       "     nit: 30"
      ]
     },
     "execution_count": 11,
     "metadata": {},
     "output_type": "execute_result"
    }
   ],
   "source": [
    "%time\n",
    "quadratic_assignment(A=F, B=D, method=\"faq\")"
   ]
  },
  {
   "cell_type": "code",
   "execution_count": 12,
   "metadata": {},
   "outputs": [
    {
     "name": "stdout",
     "output_type": "stream",
     "text": [
      "CPU times: user 1e+03 ns, sys: 0 ns, total: 1e+03 ns\n",
      "Wall time: 3.1 µs\n"
     ]
    },
    {
     "data": {
      "text/plain": [
       "     fun: 750800.0\n",
       " col_ind: [11  9 ...  5 17]\n",
       "     nit: 637"
      ]
     },
     "execution_count": 12,
     "metadata": {},
     "output_type": "execute_result"
    }
   ],
   "source": [
    "%time\n",
    "quadratic_assignment(A=F, B=D, method=\"2opt\")"
   ]
  },
  {
   "cell_type": "code",
   "execution_count": null,
   "metadata": {},
   "outputs": [],
   "source": []
  }
 ],
 "metadata": {
  "kernelspec": {
   "display_name": ".venv",
   "language": "python",
   "name": "python3"
  },
  "language_info": {
   "codemirror_mode": {
    "name": "ipython",
    "version": 3
   },
   "file_extension": ".py",
   "mimetype": "text/x-python",
   "name": "python",
   "nbconvert_exporter": "python",
   "pygments_lexer": "ipython3",
   "version": "3.9.16"
  }
 },
 "nbformat": 4,
 "nbformat_minor": 2
}
