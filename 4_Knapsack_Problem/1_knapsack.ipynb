{
 "cells": [
  {
   "cell_type": "markdown",
   "metadata": {},
   "source": [
    "# 整数ナップサック問題\n",
    "\n",
    "同じ品物を何個入れても良いという問題設定のナップサック問題\n",
    "\n",
    "$$\n",
    "\\max \\sum_{i=1}^n v_i x_i \\\\\n",
    "\\mathrm{subject \\ to \\ } \\sum_{i=1}^n s_i x_i \\le b \\\\\n",
    "x_i \\in \\{0,1,2,\\ldots\\},  \\quad i = 1,\\ldots, n\n",
    "$$"
   ]
  },
  {
   "cell_type": "markdown",
   "metadata": {},
   "source": [
    "## 動的計画法による解法\n",
    "\n",
    "ナップサック容量 $b$ を $\\theta$ に取り替えた問題の最適解を $f(\\theta)$ とおき，$\\theta=0,1,2,\\ldots,b$ で解いていく\n",
    "\n",
    "$$\n",
    "f(0) = 0, \\\\\n",
    "f(\\theta) = -\\infty \\quad (\\theta<0)\n",
    "$$\n",
    "と定義して，$\\theta>0$ に対して\n",
    "$$\n",
    "f(\\theta) = \\max \\{ 0, \\max_{i=1,\\ldots,n} f(\\theta-s_i) + v_i \\}\n",
    "$$\n",
    "と計算していく\n",
    "\n",
    "0-1 ナップサック (同じ品物を二度選べない問題設定) の場合よりDPテーブルは小さい(サイズ $b$)が，上式の計算に $O(n)$ かかるので，計算時間は0-1の場合と同じで $O(nb)$"
   ]
  },
  {
   "cell_type": "code",
   "execution_count": 1,
   "metadata": {},
   "outputs": [],
   "source": [
    "def ikpdp(s, v, b):\n",
    "    memo = {} # 部分問題の最適解の目的関数値とそのステップで入れたアイテム(入れてなければ-1)のタプルを保持する\n",
    "\n",
    "    def f(b):\n",
    "        # 既に一度f(b)が計算されていれば，辞書memoから読み出す．そうでなければ再帰的に計算する\n",
    "        if b == 0:\n",
    "            return 0, -1\n",
    "        if b < 0:\n",
    "            return -999999, -1\n",
    "        if b in memo:\n",
    "            return memo[b]\n",
    "        else:\n",
    "            max_value = 0\n",
    "            prev = -1\n",
    "            for i, size in enumerate(s):\n",
    "                if f(b - size)[0] + v[i] > max_value:\n",
    "                    max_value = f(b - size)[0] + v[i]\n",
    "                    prev = i\n",
    "            memo[b] = max_value, prev\n",
    "        return memo[b]\n",
    "\n",
    "    opt_val, prev = f(b)\n",
    "    x = [0 for i in range(len(s))]\n",
    "    # memo から入れた品物を順番に読み出す\n",
    "    while True:\n",
    "        val, prev = memo[b]\n",
    "        if prev == -1: break # テキストの実装のバグ修正で1行追加\n",
    "        x[prev] += 1\n",
    "        b -= s[prev]\n",
    "        if b <= 0:\n",
    "            break\n",
    "\n",
    "    return opt_val, x"
   ]
  },
  {
   "cell_type": "code",
   "execution_count": 2,
   "metadata": {},
   "outputs": [
    {
     "name": "stdout",
     "output_type": "stream",
     "text": [
      "Opt. value= 51\n",
      "Sol.= [2, 1, 0, 0]\n"
     ]
    }
   ],
   "source": [
    "s = [2, 3, 4, 5]\n",
    "v = [16, 19, 23, 28]\n",
    "b = 7\n",
    "opt_val, x = ikpdp(s, v, b)\n",
    "print(\"Opt. value=\", opt_val)\n",
    "print(\"Sol.=\", x)"
   ]
  },
  {
   "cell_type": "code",
   "execution_count": 3,
   "metadata": {},
   "outputs": [
    {
     "name": "stdout",
     "output_type": "stream",
     "text": [
      "Opt. value= 0\n",
      "Sol.= [0]\n",
      "Opt. value= 16\n",
      "Sol.= [1]\n",
      "Opt. value= 16\n",
      "Sol.= [1]\n",
      "Opt. value= 32\n",
      "Sol.= [2]\n",
      "Opt. value= 32\n",
      "Sol.= [2]\n",
      "Opt. value= 48\n",
      "Sol.= [3]\n"
     ]
    }
   ],
   "source": [
    "# 挙動確認: f の値は階段上に増えていく\n",
    "s = [2]\n",
    "v = [16]\n",
    "for b in range(1,7):\n",
    "    opt_val, x = ikpdp(s, v, b)\n",
    "    print(\"Opt. value=\", opt_val)\n",
    "    print(\"Sol.=\", x)"
   ]
  },
  {
   "cell_type": "markdown",
   "metadata": {},
   "source": [
    "# 0-1 ナップサック問題\n",
    "\n",
    "各品物が1個ずつしかない問題設定のナップサック問題\n",
    "\n",
    "$$\n",
    "\\max \\sum_{i=1}^n v_i x_i \\\\\n",
    "\\mathrm{subject \\ to \\ } \\sum_{i=1}^n s_i x_i \\le b \\\\\n",
    "x_i \\in \\{0,1\\},  \\quad i = 1,\\ldots, n\n",
    "$$"
   ]
  },
  {
   "cell_type": "markdown",
   "metadata": {},
   "source": [
    "## 動的計画法による解法\n",
    "\n",
    "こちらのDPの方がよく教科書で見る気がする．\n",
    "\n",
    "$n$ を $k=0, 1,\\ldots,n$ に取り替え，ナップサック容量 $b$ を $\\theta$ に取り替えた問題の最適解を $f(k,\\theta)$ とおく\n",
    "\n",
    "$$\n",
    "f(0, \\theta) = 0, \\\\\n",
    "f(k, \\theta) = -\\infty \\quad (\\theta<0)\n",
    "$$\n",
    "と定義して，以下に従って計算していく\n",
    "$$\n",
    "f(k, \\theta) = \\max \\big\\{ f(k-1, \\theta), \\ f(k-1,\\theta-s_k) + v_k \\big\\}\n",
    "$$\n",
    "\n",
    "- 注: [テキスト](https://scmopt.github.io/opt100/77mkp.html)と微妙に異なるが，この書き方の方が整数ナップサック問題との一貫性がある気がするのでこのように書いた．\n",
    "    - この式に従った更新式を下に `kpdp_2` として実装してみたが，$i=1,\\ldots,n$ の表記を使う都合上 $v,s,x$ へのアクセスを全て $k-1$ に書き直す必要がある．テキストでの実装はこれを避けるためか．"
   ]
  },
  {
   "cell_type": "code",
   "execution_count": 4,
   "metadata": {},
   "outputs": [],
   "source": [
    "# テキストの実装\n",
    "def kpdp(s, v, b):\n",
    "    memo = {}\n",
    "\n",
    "    def f(k, b):\n",
    "        if b < 0:\n",
    "            return -9999, 0\n",
    "        if k == 0:\n",
    "            if b >= s[0]:\n",
    "                memo[0, b] = v[0], 1\n",
    "                return memo[0, b]\n",
    "            else:\n",
    "                return 0, 0\n",
    "        if (k, b) in memo:\n",
    "            return memo[k, b]\n",
    "        else:\n",
    "            if f(k - 1, b)[0] < f(k - 1, b - s[k])[0] + v[k]:\n",
    "                max_value = f(k - 1, b - s[k])[0] + v[k]\n",
    "                sol = 1\n",
    "            else:\n",
    "                max_value = f(k - 1, b)[0]\n",
    "                sol = 0\n",
    "            memo[k, b] = max_value, sol\n",
    "            return memo[k, b]\n",
    "\n",
    "    opt_val, sol = f(len(s) - 1, b)\n",
    "\n",
    "    x = [0 for i in range(len(s))]\n",
    "    for k in range(len(s) - 1, -1, -1):\n",
    "        val, sol = memo[k, b]\n",
    "        if sol == 1:\n",
    "            x[k] += 1\n",
    "        b -= s[k] * sol\n",
    "        if b <= 0:\n",
    "            break\n",
    "\n",
    "    return opt_val, x"
   ]
  },
  {
   "cell_type": "code",
   "execution_count": 5,
   "metadata": {},
   "outputs": [],
   "source": [
    "# 変更した実装\n",
    "def kpdp_2(s, v, b):\n",
    "    memo = {}\n",
    "\n",
    "    def f(k, b):\n",
    "        if b < 0:\n",
    "            return -9999, 0\n",
    "        if k == 0:\n",
    "            return 0, 0\n",
    "        if (k, b) in memo:\n",
    "            return memo[k, b]\n",
    "        else:\n",
    "            if f(k - 1, b)[0] < f(k - 1, b - s[k-1])[0] + v[k-1]:\n",
    "                max_value = f(k - 1, b - s[k-1])[0] + v[k-1]\n",
    "                sol = 1\n",
    "            else:\n",
    "                max_value = f(k - 1, b)[0]\n",
    "                sol = 0\n",
    "            memo[k, b] = max_value, sol\n",
    "            return memo[k, b]\n",
    "\n",
    "    opt_val, sol = f(len(s), b)\n",
    "\n",
    "    x = [0 for i in range(len(s))]\n",
    "    for k in range(len(s), 0, -1):\n",
    "        val, sol = memo[k, b]\n",
    "        if sol == 1:\n",
    "            x[k-1] += 1\n",
    "        b -= s[k-1] * sol\n",
    "        if b <= 0:\n",
    "            break\n",
    "\n",
    "    return opt_val, x"
   ]
  },
  {
   "cell_type": "code",
   "execution_count": 6,
   "metadata": {},
   "outputs": [
    {
     "name": "stdout",
     "output_type": "stream",
     "text": [
      "Opt. value= 44\n",
      "Sol.= [1, 0, 0, 1]\n",
      "Opt. value= 44\n",
      "Sol.= [1, 0, 0, 1]\n"
     ]
    }
   ],
   "source": [
    "s = [2, 3, 4, 5]\n",
    "v = [16, 19, 23, 28]\n",
    "b = 7\n",
    "opt_val, x = kpdp(s, v, b)\n",
    "print(\"Opt. value=\", opt_val)\n",
    "print(\"Sol.=\", x)\n",
    "\n",
    "opt_val, x = kpdp_2(s, v, b)\n",
    "print(\"Opt. value=\", opt_val)\n",
    "print(\"Sol.=\", x)"
   ]
  },
  {
   "cell_type": "code",
   "execution_count": 7,
   "metadata": {},
   "outputs": [
    {
     "name": "stdout",
     "output_type": "stream",
     "text": [
      "Opt. value= 48\n",
      "Sol.= [1, 1, 1, 0, 0]\n",
      "Opt. value= 48\n",
      "Sol.= [1, 1, 1, 0, 0]\n"
     ]
    }
   ],
   "source": [
    "s = [2] * 5\n",
    "v = [16] * 5\n",
    "b = 7\n",
    "opt_val, x = kpdp(s, v, b)\n",
    "print(\"Opt. value=\", opt_val)\n",
    "print(\"Sol.=\", x)\n",
    "\n",
    "opt_val, x = kpdp_2(s, v, b)\n",
    "print(\"Opt. value=\", opt_val)\n",
    "print(\"Sol.=\", x)"
   ]
  },
  {
   "cell_type": "code",
   "execution_count": null,
   "metadata": {},
   "outputs": [],
   "source": []
  }
 ],
 "metadata": {
  "kernelspec": {
   "display_name": ".venv",
   "language": "python",
   "name": "python3"
  },
  "language_info": {
   "codemirror_mode": {
    "name": "ipython",
    "version": 3
   },
   "file_extension": ".py",
   "mimetype": "text/x-python",
   "name": "python",
   "nbconvert_exporter": "python",
   "pygments_lexer": "ipython3",
   "version": "3.9.16"
  }
 },
 "nbformat": 4,
 "nbformat_minor": 2
}
