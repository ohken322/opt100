{
 "cells": [
  {
   "cell_type": "markdown",
   "id": "8245664e",
   "metadata": {},
   "source": [
    "# グラフ彩色問題のヒューリスティック手法"
   ]
  },
  {
   "cell_type": "markdown",
   "id": "1ebcc108",
   "metadata": {},
   "source": [
    "- seq_assignment: 与えられた点の番号の順に，彩色可能な最小の番号の色で塗っていく．\n",
    "- largest_first: 点の次数（隣接する点の数）が大きいものから順に彩色する．\n",
    "    - 次数が大きい方から使う理由は？\n",
    "- dsatur: 構築法の途中で得た動的な情報をもとに，次に彩色する点を選択する．具体的には，次に彩色する点を， 隣接する点ですでに使われた色数が最大のもの（同点の場合には，彩色されていない隣接点の数が最大のもの）とする．\n",
    "- recursive_largest_fit: 同じ色を塗ることができる点の集合（色クラス）は，互いに隣接していてはいけない． これは，安定集合に他ならない． 新しい色で彩色するための安定集合を順次求めることによって解を構築する．\n",
    "    - 以下を繰り返す．次数(塗られていない隣接頂点数)が最も大きい頂点に新しい色を塗り，その頂点を含む大きな安定集合を貪欲に求める (次数が大きい順に？なぜ？)"
   ]
  },
  {
   "cell_type": "code",
   "execution_count": 1,
   "id": "3273331d",
   "metadata": {},
   "outputs": [
    {
     "name": "stdout",
     "output_type": "stream",
     "text": [
      "*** graph coloring problem ***\n",
      "\n",
      "instance randomly created\n",
      "sequential assignment\n",
      "solution: z = 22\n",
      "[0, 0, 1, 2, 1, 3, 2, 4, 5, 1, 0, 6, 4, 2, 3, 6, 5, 1, 7, 6, 3, 8, 5, 4, 8, 0, 7, 3, 7, 9, 8, 0, 2, 1, 9, 10, 9, 0, 10, 11, 11, 3, 8, 8, 12, 5, 6, 13, 4, 9, 12, 13, 2, 5, 6, 13, 14, 10, 5, 3, 13, 13, 11, 15, 12, 7, 16, 17, 17, 2, 9, 7, 17, 14, 16, 1, 12, 15, 18, 8, 9, 19, 4, 20, 9, 10, 18, 6, 11, 15, 14, 21, 12, 19, 16, 4, 10, 18, 18, 10]\n",
      "\n",
      "largest fit\n",
      "solution: z = 21\n",
      "[15, 11, 9, 2, 3, 13, 10, 2, 5, 17, 3, 1, 14, 14, 9, 15, 10, 4, 13, 12, 20, 4, 8, 18, 6, 19, 15, 13, 3, 16, 6, 18, 14, 19, 12, 1, 5, 15, 7, 3, 0, 4, 2, 17, 17, 19, 12, 2, 11, 8, 0, 10, 14, 6, 20, 3, 4, 4, 0, 12, 7, 7, 5, 1, 10, 16, 15, 7, 6, 9, 10, 16, 7, 9, 11, 17, 18, 1, 6, 8, 1, 5, 8, 3, 1, 14, 13, 2, 2, 1, 9, 8, 16, 5, 4, 14, 0, 13, 13, 11]\n",
      "\n",
      "dsatur\n",
      "solution: z = 19\n",
      "[6, 10, 11, 2, 5, 9, 15, 2, 14, 10, 3, 1, 13, 2, 3, 12, 11, 3, 9, 12, 12, 3, 5, 3, 6, 6, 7, 8, 7, 17, 14, 2, 3, 14, 0, 1, 0, 10, 10, 6, 5, 3, 4, 11, 0, 14, 15, 4, 16, 18, 0, 17, 13, 14, 18, 7, 2, 12, 5, 8, 7, 16, 13, 1, 8, 12, 8, 11, 9, 15, 6, 12, 4, 11, 15, 5, 13, 1, 9, 4, 1, 8, 13, 7, 1, 16, 17, 5, 2, 1, 8, 4, 0, 11, 10, 4, 10, 17, 6, 16]\n",
      "\n",
      "recursive largest fit\n",
      "solution: z = 17\n",
      "[13, 7, 10, 1, 3, 9, 1, 2, 12, 8, 5, 3, 11, 16, 6, 15, 9, 13, 13, 3, 0, 4, 12, 14, 4, 10, 14, 12, 5, 15, 7, 13, 7, 11, 14, 11, 0, 9, 11, 5, 0, 15, 4, 3, 7, 12, 10, 2, 7, 13, 0, 15, 1, 12, 1, 5, 3, 14, 3, 9, 8, 10, 6, 9, 2, 6, 0, 8, 8, 6, 10, 10, 10, 6, 7, 8, 2, 7, 8, 4, 13, 2, 4, 5, 0, 11, 12, 5, 6, 1, 9, 4, 16, 2, 1, 3, 11, 14, 15, 12]\n",
      "\n",
      "recursive largest fit (minimum ver)\n",
      "solution: z = 23\n",
      "[0, 7, 12, 14, 16, 10, 12, 2, 4, 6, 16, 14, 11, 18, 15, 14, 20, 18, 1, 22, 0, 17, 5, 13, 13, 1, 10, 3, 5, 4, 12, 1, 8, 13, 22, 20, 9, 6, 9, 3, 6, 15, 14, 2, 3, 19, 17, 14, 11, 2, 0, 7, 10, 7, 0, 19, 18, 11, 4, 19, 18, 11, 15, 7, 3, 4, 8, 9, 10, 2, 7, 4, 22, 0, 12, 1, 6, 8, 16, 21, 20, 5, 13, 19, 8, 9, 21, 1, 15, 1, 5, 8, 2, 10, 16, 0, 11, 3, 7, 5]\n",
      "\n"
     ]
    }
   ],
   "source": [
    "import graphtools as gts\n",
    "from gcp_heur import seq_assignment, largest_first, dsatur, recursive_largest_fit\n",
    "from gcp_heur import recursive_largest_fit_2\n",
    "\n",
    "print(\"*** graph coloring problem ***\")\n",
    "print()\n",
    "\n",
    "print(\"instance randomly created\")\n",
    "nodes, adj = gts.rnd_adj_fast(100, 0.5)\n",
    "\n",
    "print(\"sequential assignment\")\n",
    "color, K = seq_assignment(nodes, adj)\n",
    "print(\"solution: z =\", K)\n",
    "print(color)\n",
    "print()\n",
    "print(\"largest fit\")\n",
    "color, K = largest_first(nodes, adj)\n",
    "print(\"solution: z =\", K)\n",
    "print(color)\n",
    "print()\n",
    "print(\"dsatur\")\n",
    "color, K = dsatur(nodes, adj)\n",
    "print(\"solution: z =\", K)\n",
    "print(color)\n",
    "print()\n",
    "print(\"recursive largest fit\")\n",
    "color, K = recursive_largest_fit(nodes, adj)\n",
    "print(\"solution: z =\", K)\n",
    "print(color)\n",
    "print()\n",
    "print(\"recursive largest fit (minimum ver)\")\n",
    "color, K = recursive_largest_fit_2(nodes, adj)\n",
    "print(\"solution: z =\", K)\n",
    "print(color)\n",
    "print()\n"
   ]
  },
  {
   "cell_type": "code",
   "execution_count": null,
   "id": "b97c4747",
   "metadata": {},
   "outputs": [],
   "source": []
  }
 ],
 "metadata": {
  "kernelspec": {
   "display_name": "opt100",
   "language": "python",
   "name": "python3"
  },
  "language_info": {
   "codemirror_mode": {
    "name": "ipython",
    "version": 3
   },
   "file_extension": ".py",
   "mimetype": "text/x-python",
   "name": "python",
   "nbconvert_exporter": "python",
   "pygments_lexer": "ipython3",
   "version": "3.12.6"
  }
 },
 "nbformat": 4,
 "nbformat_minor": 5
}
